{
 "cells": [
  {
   "cell_type": "code",
   "execution_count": 16,
   "metadata": {},
   "outputs": [],
   "source": [
    "import pandas as pd\n",
    "\n",
    "df = pd.read_excel(\"data/paycode_jens_raw.xlsx\")\n"
   ]
  },
  {
   "cell_type": "code",
   "execution_count": 17,
   "metadata": {},
   "outputs": [],
   "source": [
    "df['Ferieberretiget'] = df['Ferieberretiget'].fillna(\"Nej\")\n",
    "df['Efterregulering'] = df['Efterregulering'].fillna(\"Nej\")\n",
    "df['E-indkomst timer'] = df['E-indkomst timer'].fillna(\"Nej\")\n",
    "df['ATP-Timer'] = df['ATP-Timer'].fillna(\"Nej\")"
   ]
  },
  {
   "cell_type": "code",
   "execution_count": 20,
   "metadata": {},
   "outputs": [],
   "source": [
    "# for columns \"Pensionsgrundlag\", \"E-indkomst\", \"IL-typer\" make sure that all strings containing \".\" are changed to \",\"\n",
    "df['Pensionsgrundlag'] = df['Pensionsgrundlag'].apply(lambda x: str(x).replace(\".\", \",\"))\n",
    "df['E-indkomst'] = df['E-indkomst'].apply(lambda x: str(x).replace(\".\", \",\"))\n",
    "df['IL-typer'] = df['IL-typer'].apply(lambda x: str(x).replace(\".\", \",\"))\n",
    "\n",
    "# in the same fields remove all trailing commas\n",
    "df['Pensionsgrundlag'] = df['Pensionsgrundlag'].apply(lambda x: str(x).strip(\",\"))\n",
    "df['E-indkomst'] = df['E-indkomst'].apply(lambda x: str(x).strip(\",\"))\n",
    "df['IL-typer'] = df['IL-typer'].apply(lambda x: str(x).strip(\",\"))"
   ]
  },
  {
   "cell_type": "code",
   "execution_count": 23,
   "metadata": {},
   "outputs": [
    {
     "data": {
      "text/plain": [
       "array(['nan', '200', '13', '200,13, ', '200,200,13', '36', '38', '14',\n",
       "       '14,88', '13,19, ', '19', '13,148, ', '13,21, ', '20,13, ',\n",
       "       '26,13, ', '55', '56', '200,13', '200, 14', '248', '147',\n",
       "       '13,147, ', '147,148', '148,147', '148', '46,13,45', '46,13, ',\n",
       "       '46', '198', '16', '89', '15', '113', '203,202, ', '69', '69,71, ',\n",
       "       '69,70,147', '13,16, ', '50', '51', '52', '53', '48', '220', '70',\n",
       "       '46,45, '], dtype=object)"
      ]
     },
     "execution_count": 23,
     "metadata": {},
     "output_type": "execute_result"
    }
   ],
   "source": [
    "df['E-indkomst'].unique()"
   ]
  },
  {
   "cell_type": "code",
   "execution_count": 24,
   "metadata": {},
   "outputs": [],
   "source": [
    "df.to_excel(\"data/paycode_jens_cleaned.xlsx\", index=False)\n"
   ]
  }
 ],
 "metadata": {
  "kernelspec": {
   "display_name": "paycodehelper",
   "language": "python",
   "name": "python3"
  },
  "language_info": {
   "codemirror_mode": {
    "name": "ipython",
    "version": 3
   },
   "file_extension": ".py",
   "mimetype": "text/x-python",
   "name": "python",
   "nbconvert_exporter": "python",
   "pygments_lexer": "ipython3",
   "version": "3.12.3"
  }
 },
 "nbformat": 4,
 "nbformat_minor": 2
}
