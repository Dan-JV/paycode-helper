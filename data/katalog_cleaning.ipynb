{
 "cells": [
  {
   "cell_type": "code",
   "execution_count": 2,
   "metadata": {},
   "outputs": [],
   "source": [
    "import pandas as pd\n",
    "\n",
    "df = pd.read_excel(\"data/paycode_jens_raw.xlsx\")\n"
   ]
  },
  {
   "cell_type": "code",
   "execution_count": null,
   "metadata": {},
   "outputs": [],
   "source": [
    "data['Ferieberretiget'] = data['Ferieberretiget'].fillna(\"Nej\")\n",
    "data['Efterregulering'] = data['Efterregulering'].fillna(\"Nej\")\n",
    "data['E-indkomst timer'] = data['E-indkomst timer'].fillna(\"Nej\")\n",
    "data['ATP-Timer'] = data['ATP-Timer'].fillna(\"Nej\")"
   ]
  }
 ],
 "metadata": {
  "kernelspec": {
   "display_name": "paycodehelper",
   "language": "python",
   "name": "python3"
  },
  "language_info": {
   "codemirror_mode": {
    "name": "ipython",
    "version": 3
   },
   "file_extension": ".py",
   "mimetype": "text/x-python",
   "name": "python",
   "nbconvert_exporter": "python",
   "pygments_lexer": "ipython3",
   "version": "3.12.3"
  }
 },
 "nbformat": 4,
 "nbformat_minor": 2
}
