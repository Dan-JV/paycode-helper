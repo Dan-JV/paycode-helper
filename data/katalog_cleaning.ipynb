{
 "cells": [
  {
   "cell_type": "code",
   "execution_count": 5,
   "metadata": {},
   "outputs": [],
   "source": [
    "import pandas as pd\n",
    "\n",
    "df = pd.read_excel(\"data/paycode_jens_raw.xlsx\")\n",
    "df_count = pd.read_csv('data/paycode_variabel_count.csv')\n"
   ]
  },
  {
   "cell_type": "code",
   "execution_count": 6,
   "metadata": {},
   "outputs": [],
   "source": [
    "# For each row look at the column \"Text1\",\"Antal1\",\"Text2\",\"Antal2\",\"Text3\",\"Antal3\"\n",
    "# combine the text columns into one string if the antal for the column is 2 or more\n",
    "\n",
    "def combine_text(row):\n",
    "    \"\"\"Looks through the columns Text1, Antal1, Text2, Antal2, Text3, Antal3 to\n",
    "    combine the text columns into one string if the antal for the column is 2 or more, and its not the same as the  real name\"\"\"\n",
    "    text_list = []\n",
    "    for i in range(1, 4):\n",
    "        text = row[f'Text{i}']\n",
    "        antal = row[f'Antal{i}']\n",
    "        if antal >= 2 and text != row[\"NAVN\"] and text not in text_list:\n",
    "            text_list.append(text)\n",
    "    return ', '.join(text_list)"
   ]
  },
  {
   "cell_type": "code",
   "execution_count": 7,
   "metadata": {},
   "outputs": [],
   "source": [
    "df['Ferieberretiget'] = df['Ferieberretiget'].fillna(\"Nej\")\n",
    "df['Efterregulering'] = df['Efterregulering'].fillna(\"Nej\")\n",
    "df['E-indkomst timer'] = df['E-indkomst timer'].fillna(\"Nej\")\n",
    "df['ATP-Timer'] = df['ATP-Timer'].fillna(\"Nej\")"
   ]
  },
  {
   "cell_type": "code",
   "execution_count": 8,
   "metadata": {},
   "outputs": [],
   "source": [
    "# for columns \"Pensionsgrundlag\", \"E-indkomst\", \"IL-typer\" make sure that all strings containing \".\" are changed to \",\"\n",
    "df['Pensionsgrundlag'] = df['Pensionsgrundlag'].apply(lambda x: str(x).replace(\".\", \",\"))\n",
    "df['E-indkomst'] = df['E-indkomst'].apply(lambda x: str(x).replace(\".\", \",\"))\n",
    "df['IL-typer'] = df['IL-typer'].apply(lambda x: str(x).replace(\".\", \",\"))\n",
    "\n",
    "# in the same fields remove all trailing commas\n",
    "df['Pensionsgrundlag'] = df['Pensionsgrundlag'].apply(lambda x: str(x).strip(\",\"))\n",
    "df['E-indkomst'] = df['E-indkomst'].apply(lambda x: str(x).strip(\",\"))\n",
    "df['IL-typer'] = df['IL-typer'].apply(lambda x: str(x).strip(\",\"))"
   ]
  },
  {
   "cell_type": "code",
   "execution_count": 9,
   "metadata": {},
   "outputs": [],
   "source": [
    "# Create the column \"Alternative_Navne\" by combining the text columns from the paycode count file\n",
    "df[\"Alternative_Navne\"] = df_count.apply(combine_text, axis=1)"
   ]
  },
  {
   "cell_type": "code",
   "execution_count": 10,
   "metadata": {},
   "outputs": [],
   "source": [
    "df.to_excel(\"data/paycode_jens_cleaned.xlsx\", index=False)"
   ]
  }
 ],
 "metadata": {
  "kernelspec": {
   "display_name": "paycodehelper",
   "language": "python",
   "name": "python3"
  },
  "language_info": {
   "codemirror_mode": {
    "name": "ipython",
    "version": 3
   },
   "file_extension": ".py",
   "mimetype": "text/x-python",
   "name": "python",
   "nbconvert_exporter": "python",
   "pygments_lexer": "ipython3",
   "version": "3.12.3"
  }
 },
 "nbformat": 4,
 "nbformat_minor": 2
}
